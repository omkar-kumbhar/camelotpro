{
 "cells": [
  {
   "cell_type": "markdown",
   "metadata": {
    "pycharm": {
     "name": "#%% md\n"
    }
   },
   "source": [
    "# Installation"
   ]
  },
  {
   "cell_type": "markdown",
   "metadata": {},
   "source": [
    " ### Install the latest version of CamelotPro"
   ]
  },
  {
   "cell_type": "code",
   "execution_count": 1,
   "metadata": {
    "pycharm": {
     "is_executing": false,
     "name": "#%%\n"
    }
   },
   "outputs": [],
   "source": [
    "!pip install -U CamelotPro"
   ]
  },
  {
   "cell_type": "markdown",
   "metadata": {},
   "source": [
    "Make sure you install the software dependecies if you want the normal camelot-py as well.\n",
    "\n",
    "Instructions here -> https://github.com/ExtractTable/camelotpro#installation"
   ]
  },
  {
   "cell_type": "markdown",
   "metadata": {
    "pycharm": {
     "name": "#%% md\n"
    }
   },
   "source": [
    "# Prerequisites for CamelotPro"
   ]
  },
  {
   "cell_type": "markdown",
   "metadata": {},
   "source": [
    "The developer must need an **api_key** ([free credits here](https://extracttable.com/camelotpro.html)) to use CamelotPro. Each Image file or one PDF page consumes one credit to trigger the process"
   ]
  },
  {
   "cell_type": "markdown",
   "metadata": {},
   "source": [
    "## Validate the API Key"
   ]
  },
  {
   "cell_type": "markdown",
   "metadata": {
    "pycharm": {
     "name": "#%% md\n"
    }
   },
   "source": [
    "First things, first, **Configure the APIKey**"
   ]
  },
  {
   "cell_type": "code",
   "execution_count": 2,
   "metadata": {
    "pycharm": {
     "is_executing": false,
     "name": "#%%\n"
    }
   },
   "outputs": [],
   "source": [
    "api_key = \"YOUR_API_KEY_HERE\""
   ]
  },
  {
   "cell_type": "markdown",
   "metadata": {},
   "source": [
    "**Validate and see the number of credits left to that API**"
   ]
  },
  {
   "cell_type": "code",
   "execution_count": 3,
   "metadata": {
    "pycharm": {
     "is_executing": false,
     "name": "#%%\n"
    }
   },
   "outputs": [
    {
     "name": "stdout",
     "output_type": "stream",
     "text": [
      "{'credits': 100, 'queued': 1, 'used': 3}\n"
     ]
    }
   ],
   "source": [
    "from camelot_pro.gopro import GoPro\n",
    "validate = GoPro(api_key=api_key).validate_api_key()\n",
    "print(validate.api_usage)"
   ]
  },
  {
   "cell_type": "markdown",
   "metadata": {},
   "source": [
    "**credits** = Total number credits attached to the API Key\n",
    "\n",
    "**queued** = Number of triggered jobs that were left \"IN_PROGRESS\", not yet retrieved\n",
    "\n",
    "**used** = Number of credits already used \n"
   ]
  },
  {
   "cell_type": "markdown",
   "metadata": {},
   "source": [
    "If there is no error encountered in the above cell, it means we have a valid API key. Now, Get started"
   ]
  },
  {
   "cell_type": "markdown",
   "metadata": {},
   "source": [
    "# Get Started"
   ]
  },
  {
   "cell_type": "code",
   "execution_count": 4,
   "metadata": {
    "pycharm": {
     "is_executing": false,
     "name": "#%%\n"
    }
   },
   "outputs": [],
   "source": [
    "from camelot_pro import read_pdf"
   ]
  },
  {
   "cell_type": "markdown",
   "metadata": {},
   "source": [
    "Initialize the input file"
   ]
  },
  {
   "cell_type": "code",
   "execution_count": 5,
   "metadata": {
    "pycharm": {
     "is_executing": false,
     "name": "#%%\n"
    }
   },
   "outputs": [],
   "source": [
    "input_file = \"location_of_image\""
   ]
  },
  {
   "cell_type": "markdown",
   "metadata": {},
   "source": [
    "## Trigger the Process to extract tables"
   ]
  },
  {
   "cell_type": "code",
   "execution_count": 6,
   "metadata": {
    "pycharm": {
     "is_executing": false,
     "name": "#%%\n"
    }
   },
   "outputs": [],
   "source": [
    "pro_tables = read_pdf(input_file, flavor=\"CamelotPro\", pro_kwargs={'api_key': api_key, 'dup_check': False})  "
   ]
  },
  {
   "cell_type": "markdown",
   "metadata": {},
   "source": [
    "## Check the status of the process"
   ]
  },
  {
   "cell_type": "code",
   "execution_count": 7,
   "metadata": {
    "pycharm": {
     "is_executing": false,
     "name": "#%%\n"
    }
   },
   "outputs": [
    {
     "data": {
      "text/plain": [
       "'Success'"
      ]
     },
     "execution_count": 7,
     "metadata": {},
     "output_type": "execute_result"
    }
   ],
   "source": [
    "pro_tables.JobStatus"
   ]
  },
  {
   "cell_type": "markdown",
   "metadata": {},
   "source": [
    "So, the Job status is Success, which means the process completed extrating the tables from the input\n",
    "\n",
    "<span style=\"background-color:yellow\"> **Note:** If the JobStatus above is <b>not \"Success\" </b> </span>, then [click here to continue](#Advanced-Usage)"
   ]
  },
  {
   "cell_type": "markdown",
   "metadata": {},
   "source": [
    "**Check count of tables extracted from the input**"
   ]
  },
  {
   "cell_type": "code",
   "execution_count": 8,
   "metadata": {
    "pycharm": {
     "name": "#%%\n"
    }
   },
   "outputs": [
    {
     "data": {
      "text/plain": [
       "<TableList n=1>"
      ]
     },
     "execution_count": 8,
     "metadata": {},
     "output_type": "execute_result"
    }
   ],
   "source": [
    "pro_tables"
   ]
  },
  {
   "cell_type": "markdown",
   "metadata": {},
   "source": [
    "*.. umm, whatelse we have in the output*"
   ]
  },
  {
   "cell_type": "code",
   "execution_count": 9,
   "metadata": {
    "pycharm": {
     "is_executing": false,
     "name": "#%%\n"
    }
   },
   "outputs": [
    {
     "data": {
      "text/plain": [
       "{'_tables': [<Table shape=(7, 7)>], 'Pages': 1, 'JobStatus': 'Success'}"
      ]
     },
     "execution_count": 9,
     "metadata": {},
     "output_type": "execute_result"
    }
   ],
   "source": [
    "pro_tables.__dict__"
   ]
  },
  {
   "cell_type": "markdown",
   "metadata": {},
   "source": [
    "*This gives the summary of document level information as below*\n",
    "\n",
    "**_tables** = List of tables found with their shapes\n",
    "\n",
    "**Pages** = Number of Input pages. Equivalent to the number of credits used\n",
    "\n",
    "**JobStatus** = One of -->> Success | Failed | Processing | Incomplete"
   ]
  },
  {
   "cell_type": "markdown",
   "metadata": {},
   "source": [
    "**Lets look into the real output**"
   ]
  },
  {
   "cell_type": "code",
   "execution_count": 10,
   "metadata": {
    "pycharm": {
     "is_executing": false,
     "name": "#%%\n"
    }
   },
   "outputs": [
    {
     "data": {
      "text/html": [
       "<div>\n",
       "<style scoped>\n",
       "    .dataframe tbody tr th:only-of-type {\n",
       "        vertical-align: middle;\n",
       "    }\n",
       "\n",
       "    .dataframe tbody tr th {\n",
       "        vertical-align: top;\n",
       "    }\n",
       "\n",
       "    .dataframe thead th {\n",
       "        text-align: right;\n",
       "    }\n",
       "</style>\n",
       "<table border=\"1\" class=\"dataframe\">\n",
       "  <thead>\n",
       "    <tr style=\"text-align: right;\">\n",
       "      <th></th>\n",
       "      <th>1</th>\n",
       "      <th>2</th>\n",
       "      <th>3</th>\n",
       "      <th>4</th>\n",
       "      <th>5</th>\n",
       "      <th>6</th>\n",
       "      <th>7</th>\n",
       "    </tr>\n",
       "  </thead>\n",
       "  <tbody>\n",
       "    <tr>\n",
       "      <th>1</th>\n",
       "      <td>Cycle</td>\n",
       "      <td>KI</td>\n",
       "      <td>Distance</td>\n",
       "      <td></td>\n",
       "      <td>Percent Fuel</td>\n",
       "      <td>Savings</td>\n",
       "      <td></td>\n",
       "    </tr>\n",
       "    <tr>\n",
       "      <th>2</th>\n",
       "      <td>Name</td>\n",
       "      <td>(1/km)</td>\n",
       "      <td>(mi)</td>\n",
       "      <td>Improved Speed</td>\n",
       "      <td>Decreased Accel</td>\n",
       "      <td>Eliminate Stops</td>\n",
       "      <td>Decreased Idle</td>\n",
       "    </tr>\n",
       "    <tr>\n",
       "      <th>3</th>\n",
       "      <td>2012 2</td>\n",
       "      <td>3.30</td>\n",
       "      <td>1.3</td>\n",
       "      <td>5.9%</td>\n",
       "      <td>9.5%</td>\n",
       "      <td>29.2%</td>\n",
       "      <td>17.4%</td>\n",
       "    </tr>\n",
       "    <tr>\n",
       "      <th>4</th>\n",
       "      <td>2145 1</td>\n",
       "      <td>0.68</td>\n",
       "      <td>11.2</td>\n",
       "      <td>2.4%</td>\n",
       "      <td>0.1%</td>\n",
       "      <td>9.5%</td>\n",
       "      <td>2.7%</td>\n",
       "    </tr>\n",
       "    <tr>\n",
       "      <th>5</th>\n",
       "      <td>4234</td>\n",
       "      <td>0.59</td>\n",
       "      <td>58.7</td>\n",
       "      <td>8.5%</td>\n",
       "      <td>1.3%</td>\n",
       "      <td>8.5%</td>\n",
       "      <td>3.3%</td>\n",
       "    </tr>\n",
       "    <tr>\n",
       "      <th>6</th>\n",
       "      <td>2032 2</td>\n",
       "      <td>0.17</td>\n",
       "      <td>57.8</td>\n",
       "      <td>21.7%</td>\n",
       "      <td>0.3%</td>\n",
       "      <td>2.7%</td>\n",
       "      <td>1.2%</td>\n",
       "    </tr>\n",
       "    <tr>\n",
       "      <th>7</th>\n",
       "      <td>41711</td>\n",
       "      <td>0.07</td>\n",
       "      <td>173.9</td>\n",
       "      <td>58.1%</td>\n",
       "      <td>1.6%</td>\n",
       "      <td>2.1%</td>\n",
       "      <td>0.5%</td>\n",
       "    </tr>\n",
       "  </tbody>\n",
       "</table>\n",
       "</div>"
      ],
      "text/plain": [
       "        1       2         3               4                5                6  \\\n",
       "1   Cycle      KI  Distance                     Percent Fuel          Savings   \n",
       "2    Name  (1/km)      (mi)  Improved Speed  Decreased Accel  Eliminate Stops   \n",
       "3  2012 2    3.30       1.3            5.9%             9.5%            29.2%   \n",
       "4  2145 1    0.68      11.2            2.4%             0.1%             9.5%   \n",
       "5    4234    0.59      58.7            8.5%             1.3%             8.5%   \n",
       "6  2032 2    0.17      57.8           21.7%             0.3%             2.7%   \n",
       "7   41711    0.07     173.9           58.1%             1.6%             2.1%   \n",
       "\n",
       "                7  \n",
       "1                  \n",
       "2  Decreased Idle  \n",
       "3           17.4%  \n",
       "4            2.7%  \n",
       "5            3.3%  \n",
       "6            1.2%  \n",
       "7            0.5%  "
      ]
     },
     "execution_count": 10,
     "metadata": {},
     "output_type": "execute_result"
    }
   ],
   "source": [
    "pro_tables[0].df"
   ]
  },
  {
   "cell_type": "markdown",
   "metadata": {},
   "source": [
    "### Woahh, as simple as that ?!\n",
    "\n",
    "Certainly. Now, its up to you to use it as much as you can. \n",
    "\n",
    "\n",
    "Curious to know what other developers use CamelotPro on?\n",
    "- Bank Statement\n",
    "- Medical Records\n",
    "- Invoice Details\n",
    "- Tax forms\n",
    "\n",
    "so, what do you use CamelotPro for?"
   ]
  },
  {
   "cell_type": "markdown",
   "metadata": {},
   "source": [
    "### Who are we?"
   ]
  },
  {
   "cell_type": "markdown",
   "metadata": {},
   "source": [
    "We are https://extracttable.com, which is AI-powered API service that detects tabular structures in images or PDFs. The API returns a tabular JSON response, that gives more control to developer to work on it. \n",
    "\n",
    "The motivation behind the product is to stop worrying about specifying columns or creating rules in detecting tables"
   ]
  },
  {
   "cell_type": "markdown",
   "metadata": {},
   "source": [
    "### What else we offer?"
   ]
  },
  {
   "cell_type": "markdown",
   "metadata": {},
   "source": [
    "API service. Choose any programming language of your own, and build an app to extract tables. [Click here to check the API documentation](https://documenter.getpostman.com/view/6396033/SVfMS9xu)"
   ]
  },
  {
   "cell_type": "markdown",
   "metadata": {
    "pycharm": {
     "is_executing": false,
     "name": "#%% md\n"
    }
   },
   "source": [
    "# The End\n",
    "\n",
    "<br><br><br><br><br><br>"
   ]
  },
  {
   "cell_type": "markdown",
   "metadata": {
    "pycharm": {
     "name": "#%% md\n"
    }
   },
   "source": [
    "# Advanced Usage\n",
    "\n",
    "If you are here, it means the JobStatus of your process in not `Success`. No worries, let see what's going on with it.\n",
    "\n",
    "\n",
    "> Info: For any triggered process, `JobStatus` can only be one of the below\n",
    "\n",
    "\n",
    "| JobStatus \t| Description \t|\n",
    "|------------\t|:-------------------------------------------------------------------|\n",
    "| Success \t| Check output for tables \t|\n",
    "| Failed \t| Process Failed, No Credits used \t|\n",
    "| Processing \t| Still in process, use \"JobId\" to retrieve the output later \t|\n",
    "| Incomplete \t| Process finished, but all pages are not processed. Partial output \t|\n",
    "\n",
    "\n"
   ]
  },
  {
   "cell_type": "markdown",
   "metadata": {},
   "source": [
    "So, what's your JobStatus `pro_tables.JobStatus`"
   ]
  },
  {
   "cell_type": "code",
   "execution_count": 13,
   "metadata": {
    "pycharm": {
     "is_executing": false,
     "name": "#%%\n"
    }
   },
   "outputs": [],
   "source": [
    "pro_tables.JobStatus"
   ]
  },
  {
   "cell_type": "markdown",
   "metadata": {
    "pycharm": {
     "name": "#%% md\n"
    }
   },
   "source": [
    "While the process of tables extraction depends on the file size, usually, an image file takes under 5 seconds to finish the process. Now, to see what is the process up to, we need the `JobId` associated to it. If the `JobStatus` is **Processing** then the `JobId` will be in the `pro_tables` as an attribute.\n",
    "\n",
    "Let's have a quick look at the JobId"
   ]
  },
  {
   "cell_type": "code",
   "execution_count": 14,
   "metadata": {
    "pycharm": {
     "name": "#%%\n"
    }
   },
   "outputs": [],
   "source": [
    "job_id = pro_tables.JobId\n",
    "print(job_id)"
   ]
  },
  {
   "cell_type": "markdown",
   "metadata": {
    "pycharm": {
     "name": "#%% md\n"
    }
   },
   "source": [
    "Ok !! Now that we passed some time, lets check the extraction status, hope it is completed 🤞"
   ]
  },
  {
   "cell_type": "code",
   "execution_count": 15,
   "metadata": {
    "pycharm": {
     "name": "#%%\n"
    }
   },
   "outputs": [],
   "source": [
    "pro_tables = read_pdf(\n",
    "    \"NoNeedOfFileLocationToRetrieveResult\", \n",
    "    flavor=\"CamelotPro\",\n",
    "    pro_kwargs={'api_key': api_key, 'job_id': job_id}\n",
    ")"
   ]
  },
  {
   "cell_type": "markdown",
   "metadata": {
    "pycharm": {
     "name": "#%% md\n"
    }
   },
   "source": [
    "*Did you notice, we included `'job_id': job_id` in `pro_kwargs` params.* The **`job_id`** in the `pro_kwargs` differentiates a Trigger from Result fetcher"
   ]
  },
  {
   "cell_type": "markdown",
   "metadata": {
    "pycharm": {
     "name": "#%% md\n"
    }
   },
   "source": [
    "Now, follow the steps from [Check the status of the process](#Check-the-status-of-the-process)"
   ]
  }
 ],
 "metadata": {
  "kernelspec": {
   "display_name": "Python 3",
   "language": "python",
   "name": "python3"
  },
  "language_info": {
   "codemirror_mode": {
    "name": "ipython",
    "version": 3
   },
   "file_extension": ".py",
   "mimetype": "text/x-python",
   "name": "python",
   "nbconvert_exporter": "python",
   "pygments_lexer": "ipython3",
   "version": "3.7.1"
  },
  "pycharm": {
   "stem_cell": {
    "cell_type": "raw",
    "source": [],
    "metadata": {
     "collapsed": false
    }
   }
  }
 },
 "nbformat": 4,
 "nbformat_minor": 1
}